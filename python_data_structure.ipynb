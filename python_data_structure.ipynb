{
  "nbformat": 4,
  "nbformat_minor": 0,
  "metadata": {
    "colab": {
      "provenance": []
    },
    "kernelspec": {
      "name": "python3",
      "display_name": "Python 3"
    },
    "language_info": {
      "name": "python"
    }
  },
  "cells": [
    {
      "cell_type": "markdown",
      "source": [
        "1 What are data structures, and why are they important?\n",
        "- In python data structure are ways of storing, managing and organizing data in software, we can use it efficiently .In python there are different data structure like list, tuple, set, dictionary.\n",
        "- In python every data structure have their different properties so, using the correct data structure for your dataset you can efficiently access and modified data ,better memory usage, organize data is easy to read , maintain and also perform some modification is easy.\n",
        "\n",
        "2 Explain the difference between mutable and immutable data types with examples?\n",
        "- In python mutable data types means changeble like we can add, remove and update the data structure.\n",
        "- Immutable data type means unchangeble like we can not edit the data structure after we created it .\n",
        "- Mutable data type :exm List , we can modify the list after we create it .\n",
        "we can add element into list we can remove element from the list , we can update the list .exm list ,set,dict.\n",
        "- Immutable data type :example tuple , once we created object into tuple we can not change it.\n",
        "\n",
        "3 What are the main differences between lists and tuples in Python?\n",
        "- Difference between list and tuple:\n",
        "- List :- List is a mutable data type means changeble.\n",
        "- list is enclose in '[]' bracket.\n",
        "- In python we use list when we need to change the object after the creation on item or data structure.\n",
        "- exm.lst=[1,2,3]\n",
        "- Tuple:- Tuple is immutable  Data type means not changeble.\n",
        "- tuple is enclosed in () paranthesis.\n",
        "- In python we use tuple when we don't need to change the object after the creation.\n",
        "- exm. tup=(1,2,3)\n",
        "\n",
        "4 Describe how dictionaries store data?\n",
        "- In python dictionary is unordered and mutable collection of items.\n",
        "- Dictionary is stored the data in key:value pair.\n",
        "- key in unique and immutable where value can be store anything.\n",
        "- Computes a hash (a number) from each key.\n",
        "- example:-\n",
        " my_dict={\"name\":\"xyz\", \"age\":19, \"gender\":\"male\"}\n",
        "\n",
        "5  Why might you use a set instead of a list in Python?\n",
        "- In python list is a data type which ordered and it allows duplicate values,so when our use case is like needed  unique items in your data so we prefered a set insted of list.\n",
        "- Basically, set will does not allow you duplicate item which is its property which is unique set from the other data sturcture.\n",
        "\n",
        "6 What is a string in Python, and how is it different from a list?\n",
        "- A string in python is nothing but a sequence of character which enclosed within single quote,double quote and triple quote.Also string is immutable data type.Meaning that once a string is created its contents cannot be changed directly. If you try to modify a character inside a string, Python will raise an error; instead you must create a new string if you want to change its contents.\n",
        "- A list in Python, on the other hand, is a general-purpose, ordered collection of items that can hold elements of any data type, such as numbers, strings, or even other lists. Lists are created using square brackets like[],[1,2].Unlike strings, lists are mutable, which means you can change, add, or remove elements from them after they are created. For example, you can append a new value to a list or replace an existing element by assigning to its index.\n",
        "\n",
        "7  How do tuples ensure data integrity in Python?\n",
        "- Basically in python tuples s an ordered sequence of items that is immutable, meaning its contents cannot be changed after creation.because once a tuple is defined its values stay fixed, preventing accidental changes during program execution.\n",
        "\n",
        "8 What is a hash table, and how does it relate to dictionaries in Python?\n",
        "- A hash table is a data structure that stores key–value pairs and uses a hash function to calculate where each key’s value should be kept. This allows very fast lookups and updates. Python’s built-in dictionaries are implemented as hash tables under the hood. That is why retrieving a value by its key in a dictionary is much faster than searching through a list.\n",
        "\n",
        "9 P Can lists contain different data types in Python?\n",
        "- Yes. Python lists are heterogeneous containers, meaning you can mix integers, strings, floats, even other lists or objects inside the same list. This flexibility lets you group related but differently-typed pieces of data together without converting them to a single type.\n",
        "\n",
        "10  Explain why strings are immutable in Python?\n",
        "- Strings are immutable objects. When you try to change a string, Python actually creates a new string rather than modifying the old one. This design choice makes strings safe to share between parts of a program, speeds up internal operations like caching and hashing, and allows them to be used as dictionary keys reliably.\n",
        "\n",
        "11 What advantages do dictionaries offer over lists for certain tasks?\n",
        "- Lists are accessed by position, so to find a value you often have to scan through all the items. Dictionaries, on the other hand, are keyed collections. You can associate each value with a meaningful key and retrieve it directly in constant time. This is much clearer and faster when you have labeled data or need to look things up frequently.\n",
        "\n",
        "12 P Describe a scenario where using a tuple would be preferable over a list?\n",
        "- If you have Storing a customer’s (name, email, phone) as a single, fixed record.\n",
        "Since this information should stay together and not be changed accidentally, you can keep it in a tuple like (\"Ravi Kumar\", \"ravi@gmail.com\", \"9876543210\") instead of a list.\n",
        "\n",
        "13 How do sets handle duplicate values in Python?\n",
        "- A set is a collection of unique, unordered elements. When you add a value that is already present, the set simply ignores the duplicate. This behavior is automatic and is part of the way sets are implemented using hashing. It’s helpful when you need to remove duplicates from a collection quickly.\n",
        "\n",
        "14 How does the “in” keyword work differently for lists and dictionaries?\n",
        "- When you use in with a list, Python checks each element in order to see if the value is present. When you use in with a dictionary, Python does not look at the values; it only checks the keys of the dictionary. If you want to test values, you must use value in mydict.values() instead.\n",
        "\n",
        "15 Can you modify the elements of a tuple? Explain why or why not?\n",
        "- No, you cannot change, add, or delete elements of a tuple once it has been created. Tuples are immutable objects. Any operation that appears to modify a tuple actually produces a new tuple, leaving the original untouched. This is what makes tuples reliable for fixed data.\n",
        "\n",
        "16 What is a nested dictionary, and give an example of its use case?\n",
        "- A nested dictionary is a dictionary whose values are themselves dictionaries. It is useful for storing structured or hierarchical data. For example:students = {\n",
        "    \"A101\": {\"name\": \"Ravi\", \"marks\": 85},\n",
        "    \"A102\": {\"name\": \"Sara\", \"marks\": 92}\n",
        "}Here each student ID maps to another dictionary containing that student’s details.\n",
        "\n",
        "17 Describe the time complexity of accessing elements in a dictionary?\n",
        "- Accessing, inserting, or deleting an element in a dictionary is on average O(1) time because of the underlying hash table. This means that, unlike a list, the performance does not depend on the size of the dictionary in typical cases.\n",
        "\n",
        "18  In what situations are lists preferred over dictionaries?\n",
        "- Lists are better when the data is naturally ordered and you only need to access elements by their position. They’re also simpler when you just need to iterate over items in sequence or store multiple values without assigning them specific keys.\n",
        "\n",
        "19 P Why are dictionaries considered unordered, and how does that affect data retrieval?\n",
        "- Conceptually, a dictionary does not assign a fixed order to its keys; it simply maps keys to values. You therefore retrieve items by their key, not by position. (Although Python 3.7+ preserves insertion order for convenience, you should still treat dictionaries as unordered when writing code.)\n",
        "\n",
        "20 P Explain the difference between a list and a dictionary in terms of data retrieval?\n",
        "- A list stores items in order and you access them by numeric index, like mylist[0]. A dictionary stores key–value pairs and you access values by key, like mydict[\"name\"]. This key-based access is much faster and more descriptive when your data has labels rather than just positions.\n",
        "\n",
        "  \n",
        "\n",
        "\n"
      ],
      "metadata": {
        "id": "ByWfa80HeCk_"
      }
    },
    {
      "cell_type": "code",
      "execution_count": 1,
      "metadata": {
        "id": "_1ouDt47dpq-",
        "colab": {
          "base_uri": "https://localhost:8080/"
        },
        "outputId": "04f6476e-8a7d-4ebf-e692-561cadf5b4ac"
      },
      "outputs": [
        {
          "output_type": "stream",
          "name": "stdout",
          "text": [
            "ravi kisan malhotra\n"
          ]
        }
      ],
      "source": [
        "#Write a code to create a string with your name and print it\n",
        "name=\"ravi kisan malhotra\"\n",
        "print(name)"
      ]
    },
    {
      "cell_type": "code",
      "source": [
        "# Write a code to find the length of the string \"Hello World\"\n",
        "s=\"Hello World\"\n",
        "len(s)"
      ],
      "metadata": {
        "colab": {
          "base_uri": "https://localhost:8080/"
        },
        "id": "tt2XVMnROquI",
        "outputId": "c0755885-d46d-4d42-d965-e603fcb87e7a"
      },
      "execution_count": 2,
      "outputs": [
        {
          "output_type": "execute_result",
          "data": {
            "text/plain": [
              "11"
            ]
          },
          "metadata": {},
          "execution_count": 2
        }
      ]
    },
    {
      "cell_type": "code",
      "source": [
        "#Write a code to slice the first 3 characters from the string \"Python Programming\"\n",
        "s=\"Python Programming\"\n",
        "s[:3]\n",
        "s[0:3]"
      ],
      "metadata": {
        "colab": {
          "base_uri": "https://localhost:8080/",
          "height": 35
        },
        "id": "_s25-2rKO1nf",
        "outputId": "3cb28a67-efc4-4170-d5b4-46c648aeb890"
      },
      "execution_count": 4,
      "outputs": [
        {
          "output_type": "execute_result",
          "data": {
            "text/plain": [
              "'Pyt'"
            ],
            "application/vnd.google.colaboratory.intrinsic+json": {
              "type": "string"
            }
          },
          "metadata": {},
          "execution_count": 4
        }
      ]
    },
    {
      "cell_type": "code",
      "source": [
        "# Write a code to convert the string \"hello\" to uppercase\n",
        "s=\"hello\"\n",
        "s.upper()"
      ],
      "metadata": {
        "colab": {
          "base_uri": "https://localhost:8080/",
          "height": 35
        },
        "id": "wCwTqqocPC_5",
        "outputId": "70d87570-6406-4145-d943-13dc9805beb7"
      },
      "execution_count": 8,
      "outputs": [
        {
          "output_type": "execute_result",
          "data": {
            "text/plain": [
              "'HELLO'"
            ],
            "application/vnd.google.colaboratory.intrinsic+json": {
              "type": "string"
            }
          },
          "metadata": {},
          "execution_count": 8
        }
      ]
    },
    {
      "cell_type": "code",
      "source": [
        "# Write a code to replace the word \"apple\" with \"orange\" in the string \"I like apple\"\n",
        "s=\"I like apple\"\n",
        "s.replace(\"apple\",\"orange\")"
      ],
      "metadata": {
        "colab": {
          "base_uri": "https://localhost:8080/",
          "height": 35
        },
        "id": "7LMKnJrhPS7k",
        "outputId": "d5186472-8c8d-45e6-cbb9-d7e610ff6123"
      },
      "execution_count": 9,
      "outputs": [
        {
          "output_type": "execute_result",
          "data": {
            "text/plain": [
              "'I like orange'"
            ],
            "application/vnd.google.colaboratory.intrinsic+json": {
              "type": "string"
            }
          },
          "metadata": {},
          "execution_count": 9
        }
      ]
    },
    {
      "cell_type": "code",
      "source": [
        "#Write a code to create a list with numbers 1 to 5 and print it\n",
        "num=[1,2,3,4,5]\n",
        "print(num)"
      ],
      "metadata": {
        "colab": {
          "base_uri": "https://localhost:8080/"
        },
        "id": "Msm8xEXCPtxX",
        "outputId": "ba87ef0d-4f5d-4a14-9d2d-0fcbc2bb21ed"
      },
      "execution_count": 12,
      "outputs": [
        {
          "output_type": "stream",
          "name": "stdout",
          "text": [
            "[1, 2, 3, 4, 5]\n"
          ]
        }
      ]
    },
    {
      "cell_type": "code",
      "source": [
        "#Write a code to append the number 10 to the list [1, 2, 3, 4]\n",
        "lst=[1,2,3,4]\n",
        "lst.append(10)\n",
        "print(lst)\n"
      ],
      "metadata": {
        "colab": {
          "base_uri": "https://localhost:8080/"
        },
        "id": "TVpr7NYXQBOD",
        "outputId": "19af39ef-5578-4f41-8106-7bd38a4b35d6"
      },
      "execution_count": 13,
      "outputs": [
        {
          "output_type": "stream",
          "name": "stdout",
          "text": [
            "[1, 2, 3, 4, 10]\n"
          ]
        }
      ]
    },
    {
      "cell_type": "code",
      "source": [
        " #Write a code to remove the number 3 from the list [1, 2, 3, 4, 5]\n",
        " lst=[1,2,3,4,5]\n",
        " lst.remove(3)\n",
        " print(lst)"
      ],
      "metadata": {
        "colab": {
          "base_uri": "https://localhost:8080/"
        },
        "id": "FHVzvvWKQabq",
        "outputId": "c7743233-7699-4deb-fa0a-7c96bb6ec8c2"
      },
      "execution_count": 14,
      "outputs": [
        {
          "output_type": "stream",
          "name": "stdout",
          "text": [
            "[1, 2, 4, 5]\n"
          ]
        }
      ]
    },
    {
      "cell_type": "code",
      "source": [
        "#Write a code to access the second element in the list ['a', 'b', 'c', 'd']\n",
        "lst1=['a', 'b', 'c', 'd']\n",
        "lst1[1]\n"
      ],
      "metadata": {
        "colab": {
          "base_uri": "https://localhost:8080/",
          "height": 35
        },
        "id": "N4M4SGbQQiW5",
        "outputId": "5addc7dc-f200-4b51-b46a-3dd3686063f3"
      },
      "execution_count": 17,
      "outputs": [
        {
          "output_type": "execute_result",
          "data": {
            "text/plain": [
              "'b'"
            ],
            "application/vnd.google.colaboratory.intrinsic+json": {
              "type": "string"
            }
          },
          "metadata": {},
          "execution_count": 17
        }
      ]
    },
    {
      "cell_type": "code",
      "source": [
        "#Write a code to reverse the list [10, 20, 30, 40, 50].\n",
        "lst=[10, 20, 30, 40, 50]\n",
        "reverse_list=lst[::-1]\n",
        "print(reverse_list)"
      ],
      "metadata": {
        "colab": {
          "base_uri": "https://localhost:8080/"
        },
        "id": "fqwpd8TnQwTQ",
        "outputId": "79ef1247-b772-4336-bf38-53a840614e10"
      },
      "execution_count": 16,
      "outputs": [
        {
          "output_type": "stream",
          "name": "stdout",
          "text": [
            "[50, 40, 30, 20, 10]\n"
          ]
        }
      ]
    },
    {
      "cell_type": "code",
      "source": [
        "# Write a code to create a tuple with the elements 100, 200, 300 and print it\n",
        "tup=(100,200,300)\n",
        "print(tup)"
      ],
      "metadata": {
        "colab": {
          "base_uri": "https://localhost:8080/"
        },
        "id": "WeMgc-uPRCKP",
        "outputId": "d9b3a636-0618-4e6a-c874-b9cd3b81f653"
      },
      "execution_count": 19,
      "outputs": [
        {
          "output_type": "stream",
          "name": "stdout",
          "text": [
            "(100, 200, 300)\n"
          ]
        }
      ]
    },
    {
      "cell_type": "code",
      "source": [
        "# Write a code to access the second-to-last element of the tuple ('red', 'green', 'blue', 'yellow').\n",
        "tup1=('red', 'green', 'blue', 'yellow')\n",
        "tup1[1::]\n",
        "\n"
      ],
      "metadata": {
        "colab": {
          "base_uri": "https://localhost:8080/"
        },
        "id": "kuMh-dbFRSha",
        "outputId": "e3b05990-058a-465b-c72e-84e2c826e28f"
      },
      "execution_count": 21,
      "outputs": [
        {
          "output_type": "execute_result",
          "data": {
            "text/plain": [
              "('green', 'blue', 'yellow')"
            ]
          },
          "metadata": {},
          "execution_count": 21
        }
      ]
    },
    {
      "cell_type": "code",
      "source": [
        "#Write a code to find the minimum number in the tuple (10, 20, 5, 15)\n",
        "tup3=(10, 20, 5, 15)\n",
        "minimum_value=min(tup3)\n",
        "print(minimum_value)"
      ],
      "metadata": {
        "colab": {
          "base_uri": "https://localhost:8080/"
        },
        "id": "NY_KtpSYRkM_",
        "outputId": "7d3dee71-29f7-4897-b0f8-731026f4c113"
      },
      "execution_count": 22,
      "outputs": [
        {
          "output_type": "stream",
          "name": "stdout",
          "text": [
            "5\n"
          ]
        }
      ]
    },
    {
      "cell_type": "code",
      "source": [
        "# Write a code to find the index of the element \"cat\" in the tuple ('dog', 'cat', 'rabbit')\n",
        "animal=('dog', 'cat', 'rabbit')\n",
        "animal.index(\"cat\")"
      ],
      "metadata": {
        "colab": {
          "base_uri": "https://localhost:8080/"
        },
        "id": "B2RjebhMR3sD",
        "outputId": "ae8cb98c-4148-44bd-c173-93e5579f1779"
      },
      "execution_count": 23,
      "outputs": [
        {
          "output_type": "execute_result",
          "data": {
            "text/plain": [
              "1"
            ]
          },
          "metadata": {},
          "execution_count": 23
        }
      ]
    },
    {
      "cell_type": "code",
      "source": [
        "#Write a code to create a tuple containing three different fruits and check if \"kiwi\" is in it\n",
        "fruits=(\"apple\",\"banana\",\"kiwi\",\"chicku\")\n",
        "\"kiwi\" in fruits"
      ],
      "metadata": {
        "colab": {
          "base_uri": "https://localhost:8080/"
        },
        "id": "ToLDRvQJSC0s",
        "outputId": "bc88c9a3-d1c4-43e7-8a87-5024e9c50cdc"
      },
      "execution_count": 24,
      "outputs": [
        {
          "output_type": "execute_result",
          "data": {
            "text/plain": [
              "True"
            ]
          },
          "metadata": {},
          "execution_count": 24
        }
      ]
    },
    {
      "cell_type": "code",
      "source": [
        "# Write a code to create a set with the elements 'a', 'b', 'c' and print it\n",
        "set1={'a', 'b', 'c'}\n",
        "print(set1)"
      ],
      "metadata": {
        "colab": {
          "base_uri": "https://localhost:8080/"
        },
        "id": "aYaQg1WYSKeH",
        "outputId": "81bcecde-ee2c-4281-f299-ebd50834482b"
      },
      "execution_count": 25,
      "outputs": [
        {
          "output_type": "stream",
          "name": "stdout",
          "text": [
            "{'b', 'c', 'a'}\n"
          ]
        }
      ]
    },
    {
      "cell_type": "code",
      "source": [
        "#Write a code to clear all elements from the set {1, 2, 3, 4, 5}\n",
        "set2={1, 2, 3, 4, 5}\n",
        "set2.clear()\n",
        "print(set2)"
      ],
      "metadata": {
        "colab": {
          "base_uri": "https://localhost:8080/"
        },
        "id": "RFYPV8hjSR_X",
        "outputId": "218cea80-9faa-41cf-8de4-2ec82d7c1025"
      },
      "execution_count": 26,
      "outputs": [
        {
          "output_type": "stream",
          "name": "stdout",
          "text": [
            "set()\n"
          ]
        }
      ]
    },
    {
      "cell_type": "code",
      "source": [
        "# Write a code to remove the element 4 from the set {1, 2, 3, 4}\n",
        "set3={1, 2, 3, 4}\n",
        "set3.remove(4)\n",
        "print(set3)"
      ],
      "metadata": {
        "colab": {
          "base_uri": "https://localhost:8080/"
        },
        "id": "0RqQekqiSZMs",
        "outputId": "fe0c2fee-f8cf-4faf-b5b8-a33b63ae79a5"
      },
      "execution_count": 27,
      "outputs": [
        {
          "output_type": "stream",
          "name": "stdout",
          "text": [
            "{1, 2, 3}\n"
          ]
        }
      ]
    },
    {
      "cell_type": "code",
      "source": [
        "#Write a code to find the union of two sets {1, 2, 3} and {3, 4, 5}\n",
        "set4={1, 2, 3}\n",
        "set5={3, 4, 5}\n",
        "set4.union(set5)"
      ],
      "metadata": {
        "colab": {
          "base_uri": "https://localhost:8080/"
        },
        "id": "QTsbU72YSdos",
        "outputId": "17b4b6cf-ed60-41cb-ee9c-d9c0e961e9bf"
      },
      "execution_count": 28,
      "outputs": [
        {
          "output_type": "execute_result",
          "data": {
            "text/plain": [
              "{1, 2, 3, 4, 5}"
            ]
          },
          "metadata": {},
          "execution_count": 28
        }
      ]
    },
    {
      "cell_type": "code",
      "source": [
        "#Write a code to find the intersection of two sets {1, 2, 3} and {2, 3, 4}\n",
        "set6={1, 2, 3}\n",
        "set7={2, 3, 4}\n",
        "set6.intersection(set7)"
      ],
      "metadata": {
        "colab": {
          "base_uri": "https://localhost:8080/"
        },
        "id": "NbwYxHddSg97",
        "outputId": "b381391a-d641-4903-9ae0-bf0e786f1364"
      },
      "execution_count": 29,
      "outputs": [
        {
          "output_type": "execute_result",
          "data": {
            "text/plain": [
              "{2, 3}"
            ]
          },
          "metadata": {},
          "execution_count": 29
        }
      ]
    },
    {
      "cell_type": "code",
      "source": [
        "# Write a code to create a dictionary with the keys \"name\", \"age\", and \"city\", and print it\n",
        "dic={\"name\":\"raju\",\"age\":19,\"city\":\"pune\"}\n",
        "print(dic)"
      ],
      "metadata": {
        "colab": {
          "base_uri": "https://localhost:8080/"
        },
        "id": "QCmgnXHQSqAD",
        "outputId": "b85cd346-0dd5-4b60-8230-2e6ef3de3352"
      },
      "execution_count": 30,
      "outputs": [
        {
          "output_type": "stream",
          "name": "stdout",
          "text": [
            "{'name': 'raju', 'age': 19, 'city': 'pune'}\n"
          ]
        }
      ]
    },
    {
      "cell_type": "code",
      "source": [
        "#Write a code to add a new key-value pair \"country\": \"USA\" to the dictionary {'name': 'John', 'age': 25}\n",
        "dic1={'name': 'John', 'age': 25}\n",
        "dic1[\"country\"]=\"USA\"\n",
        "print(dic1)"
      ],
      "metadata": {
        "colab": {
          "base_uri": "https://localhost:8080/"
        },
        "id": "ssiKnaNKS0uP",
        "outputId": "70998ae8-381d-4612-f78d-c3d3347cb20d"
      },
      "execution_count": 31,
      "outputs": [
        {
          "output_type": "stream",
          "name": "stdout",
          "text": [
            "{'name': 'John', 'age': 25, 'country': 'USA'}\n"
          ]
        }
      ]
    },
    {
      "cell_type": "code",
      "source": [
        "# Write a code to access the value associated with the key \"name\" in the dictionary {'name': 'Alice', 'age': 30}\n",
        "dic2={'name': 'Alice', 'age': 30}\n",
        "dic2[\"name\"]"
      ],
      "metadata": {
        "colab": {
          "base_uri": "https://localhost:8080/",
          "height": 35
        },
        "id": "PuA5Q1FNS4zF",
        "outputId": "1d672ddf-0029-4df1-a990-58d02114a931"
      },
      "execution_count": 32,
      "outputs": [
        {
          "output_type": "execute_result",
          "data": {
            "text/plain": [
              "'Alice'"
            ],
            "application/vnd.google.colaboratory.intrinsic+json": {
              "type": "string"
            }
          },
          "metadata": {},
          "execution_count": 32
        }
      ]
    },
    {
      "cell_type": "code",
      "source": [
        "#Write a code to remove the key \"age\" from the dictionary {'name': 'Bob', 'age': 22, 'city': 'New York'}\n",
        "dic3={'name': 'Bob', 'age': 22, 'city': 'New York'}\n",
        "dic3.pop(\"age\")\n",
        "print(dic3)\n"
      ],
      "metadata": {
        "colab": {
          "base_uri": "https://localhost:8080/"
        },
        "id": "1-kG5thmTAne",
        "outputId": "4abcf2c1-e6ac-404a-851c-7e416a8a1c2a"
      },
      "execution_count": 33,
      "outputs": [
        {
          "output_type": "stream",
          "name": "stdout",
          "text": [
            "{'name': 'Bob', 'city': 'New York'}\n"
          ]
        }
      ]
    },
    {
      "cell_type": "code",
      "source": [
        "#Write a code to check if the key \"city\" exists in the dictionary {'name': 'Alice', 'city': 'Paris'}\n",
        "dic4={'name': 'Alice', 'city': 'Paris'}\n",
        "\"city\" in dic4"
      ],
      "metadata": {
        "colab": {
          "base_uri": "https://localhost:8080/"
        },
        "id": "hOWnTIF-TGEU",
        "outputId": "6671e52c-58a1-43ef-8fba-987ba6f8752c"
      },
      "execution_count": 34,
      "outputs": [
        {
          "output_type": "execute_result",
          "data": {
            "text/plain": [
              "True"
            ]
          },
          "metadata": {},
          "execution_count": 34
        }
      ]
    },
    {
      "cell_type": "code",
      "source": [
        "#Write a code to create a list, a tuple, and a dictionary, and print them all.\n",
        "lst=[1,2,3]\n",
        "tup=(1,2,3)\n",
        "dic={\"name\":\"raju\",\"age\":19,\"city\":\"pune\"}\n",
        "print(lst)\n",
        "print(tup)\n",
        "print(dic)"
      ],
      "metadata": {
        "colab": {
          "base_uri": "https://localhost:8080/"
        },
        "id": "YVpIG_2ZTMPF",
        "outputId": "e36d13c1-09ab-4608-ef9f-b1031c98f92b"
      },
      "execution_count": 35,
      "outputs": [
        {
          "output_type": "stream",
          "name": "stdout",
          "text": [
            "[1, 2, 3]\n",
            "(1, 2, 3)\n",
            "{'name': 'raju', 'age': 19, 'city': 'pune'}\n"
          ]
        }
      ]
    },
    {
      "cell_type": "code",
      "source": [
        "# Write a code to create a list of 5 random numbers between 1 and 100, sort it in ascending order, and print the\n",
        "#result.(replaced)\n",
        "import random\n",
        "\n",
        "# create a list of 5 random numbers between 1 and 100\n",
        "numbers = [random.randint(1, 100) for _ in range(5)]\n",
        "\n",
        "# sort the list in ascending order\n",
        "numbers.sort()\n",
        "\n",
        "# print the result\n",
        "print(numbers)\n"
      ],
      "metadata": {
        "colab": {
          "base_uri": "https://localhost:8080/"
        },
        "id": "cOapBUGFTTuz",
        "outputId": "d9ecddda-8faf-4314-847b-af887414ffdf"
      },
      "execution_count": 36,
      "outputs": [
        {
          "output_type": "stream",
          "name": "stdout",
          "text": [
            "[20, 53, 61, 83, 85]\n"
          ]
        }
      ]
    },
    {
      "cell_type": "code",
      "source": [
        "# Write a code to create a list with strings and print the element at the third index.\n",
        "lst=[\"ravi\",\"kisan\",\"malhotra\"]\n",
        "lst[2]"
      ],
      "metadata": {
        "colab": {
          "base_uri": "https://localhost:8080/",
          "height": 35
        },
        "id": "HiQuDCwxTh_L",
        "outputId": "21d9642a-1177-43ba-9aea-d11c5f711c3c"
      },
      "execution_count": 37,
      "outputs": [
        {
          "output_type": "execute_result",
          "data": {
            "text/plain": [
              "'malhotra'"
            ],
            "application/vnd.google.colaboratory.intrinsic+json": {
              "type": "string"
            }
          },
          "metadata": {},
          "execution_count": 37
        }
      ]
    },
    {
      "cell_type": "code",
      "source": [
        "#Write a code to combine two dictionaries into one and print the result.\n",
        "# define two dictionaries\n",
        "dict1 = {\"a\": 1, \"b\": 2}\n",
        "dict2 = {\"c\": 3, \"d\": 4}\n",
        "combined_dict = {**dict1, **dict2}\n",
        "print(combined_dict)\n"
      ],
      "metadata": {
        "colab": {
          "base_uri": "https://localhost:8080/"
        },
        "id": "BtnhgyoLTnUf",
        "outputId": "637ba586-6579-4119-9456-20da81adf599"
      },
      "execution_count": 38,
      "outputs": [
        {
          "output_type": "stream",
          "name": "stdout",
          "text": [
            "{'a': 1, 'b': 2, 'c': 3, 'd': 4}\n"
          ]
        }
      ]
    },
    {
      "cell_type": "code",
      "source": [
        "#. Write a code to convert a list of strings into a set.\n",
        "lst=[\"ravi\",\"kisan\",\"malhotra\"]\n",
        "set(lst)"
      ],
      "metadata": {
        "colab": {
          "base_uri": "https://localhost:8080/"
        },
        "id": "f_5DpLa0TzkB",
        "outputId": "a78e6097-3281-45f3-be8d-3ade9f84bbd1"
      },
      "execution_count": 39,
      "outputs": [
        {
          "output_type": "execute_result",
          "data": {
            "text/plain": [
              "{'kisan', 'malhotra', 'ravi'}"
            ]
          },
          "metadata": {},
          "execution_count": 39
        }
      ]
    },
    {
      "cell_type": "code",
      "source": [],
      "metadata": {
        "id": "m6qJ-RCvT9zc"
      },
      "execution_count": null,
      "outputs": []
    }
  ]
}